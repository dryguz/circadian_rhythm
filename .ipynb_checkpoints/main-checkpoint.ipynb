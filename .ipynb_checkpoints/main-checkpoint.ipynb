{
 "cells": [
  {
   "cell_type": "code",
   "execution_count": 1,
   "metadata": {},
   "outputs": [],
   "source": [
    "import ephem\n",
    "import pandas as pd"
   ]
  },
  {
   "cell_type": "code",
   "execution_count": 2,
   "metadata": {},
   "outputs": [],
   "source": [
    "places = {'Paris',\n",
    "          'Warsaw',\n",
    "          'Berlin',\n",
    "          'Prague',\n",
    "          'New York',\n",
    "          'Sydney',\n",
    "          'Sao Paulo',\n",
    "          'Johannesburg',\n",
    "          'Seoul',\n",
    "        }"
   ]
  },
  {
   "cell_type": "code",
   "execution_count": 3,
   "metadata": {},
   "outputs": [],
   "source": [
    "dates = ['2017/01/15', '2017/02/15', '2017/03/15', '2017/04/15', '2017/05/15', \n",
    "         '2017/06/15', '2017/07/15', '2017/08/15', '2017/09/15', '2017/10/15',\n",
    "         '2017/11/15', '2017/12/15',]"
   ]
  },
  {
   "cell_type": "code",
   "execution_count": 5,
   "metadata": {},
   "outputs": [],
   "source": [
    "# Observer example - test\n",
    "observer = ephem.city('Warsaw')\n",
    "date = ephem.Date('2017/05/22')\n",
    "observer.date = date\n",
    "sun = ephem.Sun()\n",
    "x = ephem.localtime(observer.previous_rising(sun))\n",
    "y = ephem.localtime(observer.next_setting(sun))"
   ]
  },
  {
   "cell_type": "code",
   "execution_count": 6,
   "metadata": {},
   "outputs": [],
   "source": [
    "# Run the loop to collect data about rising and setting of Sun \n",
    "# on a given day, in a given city. \n",
    "# Keep it in DataFrame with Cities as columns and dates as index.\n",
    "\n",
    "data = pd.DataFrame(index=dates, columns=places)\n",
    "\n",
    "for place in places:\n",
    "    for date in dates:\n",
    "        observer = ephem.city(place)\n",
    "        ob_data = ephem.Date(date)\n",
    "        observer.date = ob_data\n",
    "        sun = ephem.Sun()\n",
    "        x = ephem.localtime(observer.previous_rising(sun)).time()\n",
    "        y = ephem.localtime(observer.next_setting(sun)).time()\n",
    "        data.loc[date,place]=(x,y)"
   ]
  },
  {
   "cell_type": "code",
   "execution_count": 11,
   "metadata": {
    "collapsed": true
   },
   "outputs": [
    {
     "data": {
      "text/plain": [
       "'Paris'"
      ]
     },
     "execution_count": 11,
     "metadata": {},
     "output_type": "execute_result"
    }
   ],
   "source": [
    "place"
   ]
  },
  {
   "cell_type": "code",
   "execution_count": null,
   "metadata": {},
   "outputs": [],
   "source": []
  }
 ],
 "metadata": {
  "kernelspec": {
   "display_name": "Python [conda root]",
   "language": "python",
   "name": "conda-root-py"
  },
  "language_info": {
   "codemirror_mode": {
    "name": "ipython",
    "version": 3
   },
   "file_extension": ".py",
   "mimetype": "text/x-python",
   "name": "python",
   "nbconvert_exporter": "python",
   "pygments_lexer": "ipython3",
   "version": "3.6.6"
  }
 },
 "nbformat": 4,
 "nbformat_minor": 2
}
